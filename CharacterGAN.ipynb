{
  "cells": [
    {
      "cell_type": "code",
      "execution_count": 170,
      "metadata": {
        "colab": {
          "base_uri": "https://localhost:8080/"
        },
        "id": "aGXLykBOUSlT",
        "outputId": "a383529b-abb2-4e4f-dd76-7f83ee7091f3"
      },
      "outputs": [
        {
          "name": "stdout",
          "output_type": "stream",
          "text": [
            "num GPUs: 1\n"
          ]
        }
      ],
      "source": [
        "import tensorflow as tf\n",
        "from tensorflow import keras\n",
        "from keras import layers\n",
        "import numpy as np\n",
        "import pandas as pd\n",
        "import matplotlib.pyplot as plt\n",
        "from sklearn.model_selection import train_test_split\n",
        "\n",
        "\n",
        "#maintain consistent performance\n",
        "tf.random.set_seed(42)\n",
        "np.random.seed(42)\n",
        "\n",
        "#confirm GPU is available\n",
        "print(\"num GPUs:\", len(tf.config.list_physical_devices('GPU')))"
      ]
    },
    {
      "cell_type": "code",
      "execution_count": 171,
      "metadata": {
        "colab": {
          "base_uri": "https://localhost:8080/"
        },
        "id": "27MQ2FckB1Wv",
        "outputId": "a0fb56f8-52ab-4f8f-e67a-8482675ebb6e"
      },
      "outputs": [
        {
          "name": "stdout",
          "output_type": "stream",
          "text": [
            "Drive already mounted at /content/drive; to attempt to forcibly remount, call drive.mount(\"/content/drive\", force_remount=True).\n"
          ]
        }
      ],
      "source": [
        "from google.colab import drive\n",
        "drive.mount('/content/drive')"
      ]
    },
    {
      "cell_type": "code",
      "execution_count": 172,
      "metadata": {
        "colab": {
          "base_uri": "https://localhost:8080/",
          "height": 236
        },
        "id": "barvboNZjB-7",
        "outputId": "97474dc7-4dfb-4278-dc14-08895be69380"
      },
      "outputs": [
        {
          "data": {
            "text/html": [
              "\n",
              "  <div id=\"df-a2d062e9-97ea-4c20-bd66-925ababd0766\">\n",
              "    <div class=\"colab-df-container\">\n",
              "      <div>\n",
              "<style scoped>\n",
              "    .dataframe tbody tr th:only-of-type {\n",
              "        vertical-align: middle;\n",
              "    }\n",
              "\n",
              "    .dataframe tbody tr th {\n",
              "        vertical-align: top;\n",
              "    }\n",
              "\n",
              "    .dataframe thead th {\n",
              "        text-align: right;\n",
              "    }\n",
              "</style>\n",
              "<table border=\"1\" class=\"dataframe\">\n",
              "  <thead>\n",
              "    <tr style=\"text-align: right;\">\n",
              "      <th></th>\n",
              "      <th>0</th>\n",
              "      <th>1</th>\n",
              "      <th>2</th>\n",
              "      <th>3</th>\n",
              "      <th>4</th>\n",
              "      <th>5</th>\n",
              "      <th>6</th>\n",
              "      <th>7</th>\n",
              "      <th>8</th>\n",
              "      <th>9</th>\n",
              "      <th>...</th>\n",
              "      <th>775</th>\n",
              "      <th>776</th>\n",
              "      <th>777</th>\n",
              "      <th>778</th>\n",
              "      <th>779</th>\n",
              "      <th>780</th>\n",
              "      <th>781</th>\n",
              "      <th>782</th>\n",
              "      <th>783</th>\n",
              "      <th>784</th>\n",
              "    </tr>\n",
              "  </thead>\n",
              "  <tbody>\n",
              "    <tr>\n",
              "      <th>0</th>\n",
              "      <td>45</td>\n",
              "      <td>0</td>\n",
              "      <td>0</td>\n",
              "      <td>0</td>\n",
              "      <td>0</td>\n",
              "      <td>0</td>\n",
              "      <td>0</td>\n",
              "      <td>0</td>\n",
              "      <td>0</td>\n",
              "      <td>0</td>\n",
              "      <td>...</td>\n",
              "      <td>0</td>\n",
              "      <td>0</td>\n",
              "      <td>0</td>\n",
              "      <td>0</td>\n",
              "      <td>0</td>\n",
              "      <td>0</td>\n",
              "      <td>0</td>\n",
              "      <td>0</td>\n",
              "      <td>0</td>\n",
              "      <td>0</td>\n",
              "    </tr>\n",
              "    <tr>\n",
              "      <th>1</th>\n",
              "      <td>36</td>\n",
              "      <td>0</td>\n",
              "      <td>0</td>\n",
              "      <td>0</td>\n",
              "      <td>0</td>\n",
              "      <td>0</td>\n",
              "      <td>0</td>\n",
              "      <td>0</td>\n",
              "      <td>0</td>\n",
              "      <td>0</td>\n",
              "      <td>...</td>\n",
              "      <td>0</td>\n",
              "      <td>0</td>\n",
              "      <td>0</td>\n",
              "      <td>0</td>\n",
              "      <td>0</td>\n",
              "      <td>0</td>\n",
              "      <td>0</td>\n",
              "      <td>0</td>\n",
              "      <td>0</td>\n",
              "      <td>0</td>\n",
              "    </tr>\n",
              "    <tr>\n",
              "      <th>2</th>\n",
              "      <td>43</td>\n",
              "      <td>0</td>\n",
              "      <td>0</td>\n",
              "      <td>0</td>\n",
              "      <td>0</td>\n",
              "      <td>0</td>\n",
              "      <td>0</td>\n",
              "      <td>0</td>\n",
              "      <td>0</td>\n",
              "      <td>0</td>\n",
              "      <td>...</td>\n",
              "      <td>0</td>\n",
              "      <td>0</td>\n",
              "      <td>0</td>\n",
              "      <td>0</td>\n",
              "      <td>0</td>\n",
              "      <td>0</td>\n",
              "      <td>0</td>\n",
              "      <td>0</td>\n",
              "      <td>0</td>\n",
              "      <td>0</td>\n",
              "    </tr>\n",
              "    <tr>\n",
              "      <th>3</th>\n",
              "      <td>15</td>\n",
              "      <td>0</td>\n",
              "      <td>0</td>\n",
              "      <td>0</td>\n",
              "      <td>0</td>\n",
              "      <td>0</td>\n",
              "      <td>0</td>\n",
              "      <td>0</td>\n",
              "      <td>0</td>\n",
              "      <td>0</td>\n",
              "      <td>...</td>\n",
              "      <td>0</td>\n",
              "      <td>0</td>\n",
              "      <td>0</td>\n",
              "      <td>0</td>\n",
              "      <td>0</td>\n",
              "      <td>0</td>\n",
              "      <td>0</td>\n",
              "      <td>0</td>\n",
              "      <td>0</td>\n",
              "      <td>0</td>\n",
              "    </tr>\n",
              "    <tr>\n",
              "      <th>4</th>\n",
              "      <td>4</td>\n",
              "      <td>0</td>\n",
              "      <td>0</td>\n",
              "      <td>0</td>\n",
              "      <td>0</td>\n",
              "      <td>0</td>\n",
              "      <td>0</td>\n",
              "      <td>0</td>\n",
              "      <td>0</td>\n",
              "      <td>0</td>\n",
              "      <td>...</td>\n",
              "      <td>0</td>\n",
              "      <td>0</td>\n",
              "      <td>0</td>\n",
              "      <td>0</td>\n",
              "      <td>0</td>\n",
              "      <td>0</td>\n",
              "      <td>0</td>\n",
              "      <td>0</td>\n",
              "      <td>0</td>\n",
              "      <td>0</td>\n",
              "    </tr>\n",
              "  </tbody>\n",
              "</table>\n",
              "<p>5 rows × 785 columns</p>\n",
              "</div>\n",
              "      <button class=\"colab-df-convert\" onclick=\"convertToInteractive('df-a2d062e9-97ea-4c20-bd66-925ababd0766')\"\n",
              "              title=\"Convert this dataframe to an interactive table.\"\n",
              "              style=\"display:none;\">\n",
              "        \n",
              "  <svg xmlns=\"http://www.w3.org/2000/svg\" height=\"24px\"viewBox=\"0 0 24 24\"\n",
              "       width=\"24px\">\n",
              "    <path d=\"M0 0h24v24H0V0z\" fill=\"none\"/>\n",
              "    <path d=\"M18.56 5.44l.94 2.06.94-2.06 2.06-.94-2.06-.94-.94-2.06-.94 2.06-2.06.94zm-11 1L8.5 8.5l.94-2.06 2.06-.94-2.06-.94L8.5 2.5l-.94 2.06-2.06.94zm10 10l.94 2.06.94-2.06 2.06-.94-2.06-.94-.94-2.06-.94 2.06-2.06.94z\"/><path d=\"M17.41 7.96l-1.37-1.37c-.4-.4-.92-.59-1.43-.59-.52 0-1.04.2-1.43.59L10.3 9.45l-7.72 7.72c-.78.78-.78 2.05 0 2.83L4 21.41c.39.39.9.59 1.41.59.51 0 1.02-.2 1.41-.59l7.78-7.78 2.81-2.81c.8-.78.8-2.07 0-2.86zM5.41 20L4 18.59l7.72-7.72 1.47 1.35L5.41 20z\"/>\n",
              "  </svg>\n",
              "      </button>\n",
              "      \n",
              "  <style>\n",
              "    .colab-df-container {\n",
              "      display:flex;\n",
              "      flex-wrap:wrap;\n",
              "      gap: 12px;\n",
              "    }\n",
              "\n",
              "    .colab-df-convert {\n",
              "      background-color: #E8F0FE;\n",
              "      border: none;\n",
              "      border-radius: 50%;\n",
              "      cursor: pointer;\n",
              "      display: none;\n",
              "      fill: #1967D2;\n",
              "      height: 32px;\n",
              "      padding: 0 0 0 0;\n",
              "      width: 32px;\n",
              "    }\n",
              "\n",
              "    .colab-df-convert:hover {\n",
              "      background-color: #E2EBFA;\n",
              "      box-shadow: 0px 1px 2px rgba(60, 64, 67, 0.3), 0px 1px 3px 1px rgba(60, 64, 67, 0.15);\n",
              "      fill: #174EA6;\n",
              "    }\n",
              "\n",
              "    [theme=dark] .colab-df-convert {\n",
              "      background-color: #3B4455;\n",
              "      fill: #D2E3FC;\n",
              "    }\n",
              "\n",
              "    [theme=dark] .colab-df-convert:hover {\n",
              "      background-color: #434B5C;\n",
              "      box-shadow: 0px 1px 3px 1px rgba(0, 0, 0, 0.15);\n",
              "      filter: drop-shadow(0px 1px 2px rgba(0, 0, 0, 0.3));\n",
              "      fill: #FFFFFF;\n",
              "    }\n",
              "  </style>\n",
              "\n",
              "      <script>\n",
              "        const buttonEl =\n",
              "          document.querySelector('#df-a2d062e9-97ea-4c20-bd66-925ababd0766 button.colab-df-convert');\n",
              "        buttonEl.style.display =\n",
              "          google.colab.kernel.accessAllowed ? 'block' : 'none';\n",
              "\n",
              "        async function convertToInteractive(key) {\n",
              "          const element = document.querySelector('#df-a2d062e9-97ea-4c20-bd66-925ababd0766');\n",
              "          const dataTable =\n",
              "            await google.colab.kernel.invokeFunction('convertToInteractive',\n",
              "                                                     [key], {});\n",
              "          if (!dataTable) return;\n",
              "\n",
              "          const docLinkHtml = 'Like what you see? Visit the ' +\n",
              "            '<a target=\"_blank\" href=https://colab.research.google.com/notebooks/data_table.ipynb>data table notebook</a>'\n",
              "            + ' to learn more about interactive tables.';\n",
              "          element.innerHTML = '';\n",
              "          dataTable['output_type'] = 'display_data';\n",
              "          await google.colab.output.renderOutput(dataTable, element);\n",
              "          const docLink = document.createElement('div');\n",
              "          docLink.innerHTML = docLinkHtml;\n",
              "          element.appendChild(docLink);\n",
              "        }\n",
              "      </script>\n",
              "    </div>\n",
              "  </div>\n",
              "  "
            ],
            "text/plain": [
              "   0    1    2    3    4    5    6    7    8    9    ...  775  776  777  778  \\\n",
              "0   45    0    0    0    0    0    0    0    0    0  ...    0    0    0    0   \n",
              "1   36    0    0    0    0    0    0    0    0    0  ...    0    0    0    0   \n",
              "2   43    0    0    0    0    0    0    0    0    0  ...    0    0    0    0   \n",
              "3   15    0    0    0    0    0    0    0    0    0  ...    0    0    0    0   \n",
              "4    4    0    0    0    0    0    0    0    0    0  ...    0    0    0    0   \n",
              "\n",
              "   779  780  781  782  783  784  \n",
              "0    0    0    0    0    0    0  \n",
              "1    0    0    0    0    0    0  \n",
              "2    0    0    0    0    0    0  \n",
              "3    0    0    0    0    0    0  \n",
              "4    0    0    0    0    0    0  \n",
              "\n",
              "[5 rows x 785 columns]"
            ]
          },
          "execution_count": 172,
          "metadata": {},
          "output_type": "execute_result"
        }
      ],
      "source": [
        "dset = pd.read_csv('/content/drive/MyDrive/CData/emnist-balanced-train.csv', header=None)\n",
        "dset.head()"
      ]
    },
    {
      "cell_type": "code",
      "execution_count": 173,
      "metadata": {
        "colab": {
          "base_uri": "https://localhost:8080/",
          "height": 394
        },
        "id": "14dvrUeDlELU",
        "outputId": "ab30bede-e7bb-419c-9b6e-82af90828d46"
      },
      "outputs": [
        {
          "data": {
            "text/html": [
              "\n",
              "  <div id=\"df-290aa70b-6c73-479b-9b78-72be031e7536\">\n",
              "    <div class=\"colab-df-container\">\n",
              "      <div>\n",
              "<style scoped>\n",
              "    .dataframe tbody tr th:only-of-type {\n",
              "        vertical-align: middle;\n",
              "    }\n",
              "\n",
              "    .dataframe tbody tr th {\n",
              "        vertical-align: top;\n",
              "    }\n",
              "\n",
              "    .dataframe thead th {\n",
              "        text-align: right;\n",
              "    }\n",
              "</style>\n",
              "<table border=\"1\" class=\"dataframe\">\n",
              "  <thead>\n",
              "    <tr style=\"text-align: right;\">\n",
              "      <th></th>\n",
              "      <th>0</th>\n",
              "      <th>1</th>\n",
              "      <th>2</th>\n",
              "      <th>3</th>\n",
              "      <th>4</th>\n",
              "      <th>5</th>\n",
              "      <th>6</th>\n",
              "      <th>7</th>\n",
              "      <th>8</th>\n",
              "      <th>9</th>\n",
              "      <th>...</th>\n",
              "      <th>775</th>\n",
              "      <th>776</th>\n",
              "      <th>777</th>\n",
              "      <th>778</th>\n",
              "      <th>779</th>\n",
              "      <th>780</th>\n",
              "      <th>781</th>\n",
              "      <th>782</th>\n",
              "      <th>783</th>\n",
              "      <th>784</th>\n",
              "    </tr>\n",
              "  </thead>\n",
              "  <tbody>\n",
              "    <tr>\n",
              "      <th>count</th>\n",
              "      <td>112800.00000</td>\n",
              "      <td>112800.0</td>\n",
              "      <td>112800.0</td>\n",
              "      <td>112800.0</td>\n",
              "      <td>112800.0</td>\n",
              "      <td>112800.000000</td>\n",
              "      <td>112800.000000</td>\n",
              "      <td>112800.000000</td>\n",
              "      <td>112800.000000</td>\n",
              "      <td>112800.000000</td>\n",
              "      <td>...</td>\n",
              "      <td>112800.000000</td>\n",
              "      <td>112800.0</td>\n",
              "      <td>112800.0</td>\n",
              "      <td>112800.000000</td>\n",
              "      <td>112800.000000</td>\n",
              "      <td>112800.0</td>\n",
              "      <td>112800.0</td>\n",
              "      <td>112800.0</td>\n",
              "      <td>112800.0</td>\n",
              "      <td>112800.0</td>\n",
              "    </tr>\n",
              "    <tr>\n",
              "      <th>mean</th>\n",
              "      <td>23.00000</td>\n",
              "      <td>0.0</td>\n",
              "      <td>0.0</td>\n",
              "      <td>0.0</td>\n",
              "      <td>0.0</td>\n",
              "      <td>0.001365</td>\n",
              "      <td>0.011560</td>\n",
              "      <td>0.020700</td>\n",
              "      <td>0.017438</td>\n",
              "      <td>0.018475</td>\n",
              "      <td>...</td>\n",
              "      <td>0.000310</td>\n",
              "      <td>0.0</td>\n",
              "      <td>0.0</td>\n",
              "      <td>0.002163</td>\n",
              "      <td>0.000284</td>\n",
              "      <td>0.0</td>\n",
              "      <td>0.0</td>\n",
              "      <td>0.0</td>\n",
              "      <td>0.0</td>\n",
              "      <td>0.0</td>\n",
              "    </tr>\n",
              "    <tr>\n",
              "      <th>std</th>\n",
              "      <td>13.56472</td>\n",
              "      <td>0.0</td>\n",
              "      <td>0.0</td>\n",
              "      <td>0.0</td>\n",
              "      <td>0.0</td>\n",
              "      <td>0.235046</td>\n",
              "      <td>1.221826</td>\n",
              "      <td>1.658797</td>\n",
              "      <td>1.602478</td>\n",
              "      <td>1.719549</td>\n",
              "      <td>...</td>\n",
              "      <td>0.104211</td>\n",
              "      <td>0.0</td>\n",
              "      <td>0.0</td>\n",
              "      <td>0.726499</td>\n",
              "      <td>0.095279</td>\n",
              "      <td>0.0</td>\n",
              "      <td>0.0</td>\n",
              "      <td>0.0</td>\n",
              "      <td>0.0</td>\n",
              "      <td>0.0</td>\n",
              "    </tr>\n",
              "    <tr>\n",
              "      <th>min</th>\n",
              "      <td>0.00000</td>\n",
              "      <td>0.0</td>\n",
              "      <td>0.0</td>\n",
              "      <td>0.0</td>\n",
              "      <td>0.0</td>\n",
              "      <td>0.000000</td>\n",
              "      <td>0.000000</td>\n",
              "      <td>0.000000</td>\n",
              "      <td>0.000000</td>\n",
              "      <td>0.000000</td>\n",
              "      <td>...</td>\n",
              "      <td>0.000000</td>\n",
              "      <td>0.0</td>\n",
              "      <td>0.0</td>\n",
              "      <td>0.000000</td>\n",
              "      <td>0.000000</td>\n",
              "      <td>0.0</td>\n",
              "      <td>0.0</td>\n",
              "      <td>0.0</td>\n",
              "      <td>0.0</td>\n",
              "      <td>0.0</td>\n",
              "    </tr>\n",
              "    <tr>\n",
              "      <th>25%</th>\n",
              "      <td>11.00000</td>\n",
              "      <td>0.0</td>\n",
              "      <td>0.0</td>\n",
              "      <td>0.0</td>\n",
              "      <td>0.0</td>\n",
              "      <td>0.000000</td>\n",
              "      <td>0.000000</td>\n",
              "      <td>0.000000</td>\n",
              "      <td>0.000000</td>\n",
              "      <td>0.000000</td>\n",
              "      <td>...</td>\n",
              "      <td>0.000000</td>\n",
              "      <td>0.0</td>\n",
              "      <td>0.0</td>\n",
              "      <td>0.000000</td>\n",
              "      <td>0.000000</td>\n",
              "      <td>0.0</td>\n",
              "      <td>0.0</td>\n",
              "      <td>0.0</td>\n",
              "      <td>0.0</td>\n",
              "      <td>0.0</td>\n",
              "    </tr>\n",
              "    <tr>\n",
              "      <th>50%</th>\n",
              "      <td>23.00000</td>\n",
              "      <td>0.0</td>\n",
              "      <td>0.0</td>\n",
              "      <td>0.0</td>\n",
              "      <td>0.0</td>\n",
              "      <td>0.000000</td>\n",
              "      <td>0.000000</td>\n",
              "      <td>0.000000</td>\n",
              "      <td>0.000000</td>\n",
              "      <td>0.000000</td>\n",
              "      <td>...</td>\n",
              "      <td>0.000000</td>\n",
              "      <td>0.0</td>\n",
              "      <td>0.0</td>\n",
              "      <td>0.000000</td>\n",
              "      <td>0.000000</td>\n",
              "      <td>0.0</td>\n",
              "      <td>0.0</td>\n",
              "      <td>0.0</td>\n",
              "      <td>0.0</td>\n",
              "      <td>0.0</td>\n",
              "    </tr>\n",
              "    <tr>\n",
              "      <th>75%</th>\n",
              "      <td>35.00000</td>\n",
              "      <td>0.0</td>\n",
              "      <td>0.0</td>\n",
              "      <td>0.0</td>\n",
              "      <td>0.0</td>\n",
              "      <td>0.000000</td>\n",
              "      <td>0.000000</td>\n",
              "      <td>0.000000</td>\n",
              "      <td>0.000000</td>\n",
              "      <td>0.000000</td>\n",
              "      <td>...</td>\n",
              "      <td>0.000000</td>\n",
              "      <td>0.0</td>\n",
              "      <td>0.0</td>\n",
              "      <td>0.000000</td>\n",
              "      <td>0.000000</td>\n",
              "      <td>0.0</td>\n",
              "      <td>0.0</td>\n",
              "      <td>0.0</td>\n",
              "      <td>0.0</td>\n",
              "      <td>0.0</td>\n",
              "    </tr>\n",
              "    <tr>\n",
              "      <th>max</th>\n",
              "      <td>46.00000</td>\n",
              "      <td>0.0</td>\n",
              "      <td>0.0</td>\n",
              "      <td>0.0</td>\n",
              "      <td>0.0</td>\n",
              "      <td>63.000000</td>\n",
              "      <td>192.000000</td>\n",
              "      <td>217.000000</td>\n",
              "      <td>217.000000</td>\n",
              "      <td>217.000000</td>\n",
              "      <td>...</td>\n",
              "      <td>35.000000</td>\n",
              "      <td>0.0</td>\n",
              "      <td>0.0</td>\n",
              "      <td>244.000000</td>\n",
              "      <td>32.000000</td>\n",
              "      <td>0.0</td>\n",
              "      <td>0.0</td>\n",
              "      <td>0.0</td>\n",
              "      <td>0.0</td>\n",
              "      <td>0.0</td>\n",
              "    </tr>\n",
              "  </tbody>\n",
              "</table>\n",
              "<p>8 rows × 785 columns</p>\n",
              "</div>\n",
              "      <button class=\"colab-df-convert\" onclick=\"convertToInteractive('df-290aa70b-6c73-479b-9b78-72be031e7536')\"\n",
              "              title=\"Convert this dataframe to an interactive table.\"\n",
              "              style=\"display:none;\">\n",
              "        \n",
              "  <svg xmlns=\"http://www.w3.org/2000/svg\" height=\"24px\"viewBox=\"0 0 24 24\"\n",
              "       width=\"24px\">\n",
              "    <path d=\"M0 0h24v24H0V0z\" fill=\"none\"/>\n",
              "    <path d=\"M18.56 5.44l.94 2.06.94-2.06 2.06-.94-2.06-.94-.94-2.06-.94 2.06-2.06.94zm-11 1L8.5 8.5l.94-2.06 2.06-.94-2.06-.94L8.5 2.5l-.94 2.06-2.06.94zm10 10l.94 2.06.94-2.06 2.06-.94-2.06-.94-.94-2.06-.94 2.06-2.06.94z\"/><path d=\"M17.41 7.96l-1.37-1.37c-.4-.4-.92-.59-1.43-.59-.52 0-1.04.2-1.43.59L10.3 9.45l-7.72 7.72c-.78.78-.78 2.05 0 2.83L4 21.41c.39.39.9.59 1.41.59.51 0 1.02-.2 1.41-.59l7.78-7.78 2.81-2.81c.8-.78.8-2.07 0-2.86zM5.41 20L4 18.59l7.72-7.72 1.47 1.35L5.41 20z\"/>\n",
              "  </svg>\n",
              "      </button>\n",
              "      \n",
              "  <style>\n",
              "    .colab-df-container {\n",
              "      display:flex;\n",
              "      flex-wrap:wrap;\n",
              "      gap: 12px;\n",
              "    }\n",
              "\n",
              "    .colab-df-convert {\n",
              "      background-color: #E8F0FE;\n",
              "      border: none;\n",
              "      border-radius: 50%;\n",
              "      cursor: pointer;\n",
              "      display: none;\n",
              "      fill: #1967D2;\n",
              "      height: 32px;\n",
              "      padding: 0 0 0 0;\n",
              "      width: 32px;\n",
              "    }\n",
              "\n",
              "    .colab-df-convert:hover {\n",
              "      background-color: #E2EBFA;\n",
              "      box-shadow: 0px 1px 2px rgba(60, 64, 67, 0.3), 0px 1px 3px 1px rgba(60, 64, 67, 0.15);\n",
              "      fill: #174EA6;\n",
              "    }\n",
              "\n",
              "    [theme=dark] .colab-df-convert {\n",
              "      background-color: #3B4455;\n",
              "      fill: #D2E3FC;\n",
              "    }\n",
              "\n",
              "    [theme=dark] .colab-df-convert:hover {\n",
              "      background-color: #434B5C;\n",
              "      box-shadow: 0px 1px 3px 1px rgba(0, 0, 0, 0.15);\n",
              "      filter: drop-shadow(0px 1px 2px rgba(0, 0, 0, 0.3));\n",
              "      fill: #FFFFFF;\n",
              "    }\n",
              "  </style>\n",
              "\n",
              "      <script>\n",
              "        const buttonEl =\n",
              "          document.querySelector('#df-290aa70b-6c73-479b-9b78-72be031e7536 button.colab-df-convert');\n",
              "        buttonEl.style.display =\n",
              "          google.colab.kernel.accessAllowed ? 'block' : 'none';\n",
              "\n",
              "        async function convertToInteractive(key) {\n",
              "          const element = document.querySelector('#df-290aa70b-6c73-479b-9b78-72be031e7536');\n",
              "          const dataTable =\n",
              "            await google.colab.kernel.invokeFunction('convertToInteractive',\n",
              "                                                     [key], {});\n",
              "          if (!dataTable) return;\n",
              "\n",
              "          const docLinkHtml = 'Like what you see? Visit the ' +\n",
              "            '<a target=\"_blank\" href=https://colab.research.google.com/notebooks/data_table.ipynb>data table notebook</a>'\n",
              "            + ' to learn more about interactive tables.';\n",
              "          element.innerHTML = '';\n",
              "          dataTable['output_type'] = 'display_data';\n",
              "          await google.colab.output.renderOutput(dataTable, element);\n",
              "          const docLink = document.createElement('div');\n",
              "          docLink.innerHTML = docLinkHtml;\n",
              "          element.appendChild(docLink);\n",
              "        }\n",
              "      </script>\n",
              "    </div>\n",
              "  </div>\n",
              "  "
            ],
            "text/plain": [
              "                0         1         2         3         4              5    \\\n",
              "count  112800.00000  112800.0  112800.0  112800.0  112800.0  112800.000000   \n",
              "mean       23.00000       0.0       0.0       0.0       0.0       0.001365   \n",
              "std        13.56472       0.0       0.0       0.0       0.0       0.235046   \n",
              "min         0.00000       0.0       0.0       0.0       0.0       0.000000   \n",
              "25%        11.00000       0.0       0.0       0.0       0.0       0.000000   \n",
              "50%        23.00000       0.0       0.0       0.0       0.0       0.000000   \n",
              "75%        35.00000       0.0       0.0       0.0       0.0       0.000000   \n",
              "max        46.00000       0.0       0.0       0.0       0.0      63.000000   \n",
              "\n",
              "                 6              7              8              9    ...  \\\n",
              "count  112800.000000  112800.000000  112800.000000  112800.000000  ...   \n",
              "mean        0.011560       0.020700       0.017438       0.018475  ...   \n",
              "std         1.221826       1.658797       1.602478       1.719549  ...   \n",
              "min         0.000000       0.000000       0.000000       0.000000  ...   \n",
              "25%         0.000000       0.000000       0.000000       0.000000  ...   \n",
              "50%         0.000000       0.000000       0.000000       0.000000  ...   \n",
              "75%         0.000000       0.000000       0.000000       0.000000  ...   \n",
              "max       192.000000     217.000000     217.000000     217.000000  ...   \n",
              "\n",
              "                 775       776       777            778            779  \\\n",
              "count  112800.000000  112800.0  112800.0  112800.000000  112800.000000   \n",
              "mean        0.000310       0.0       0.0       0.002163       0.000284   \n",
              "std         0.104211       0.0       0.0       0.726499       0.095279   \n",
              "min         0.000000       0.0       0.0       0.000000       0.000000   \n",
              "25%         0.000000       0.0       0.0       0.000000       0.000000   \n",
              "50%         0.000000       0.0       0.0       0.000000       0.000000   \n",
              "75%         0.000000       0.0       0.0       0.000000       0.000000   \n",
              "max        35.000000       0.0       0.0     244.000000      32.000000   \n",
              "\n",
              "            780       781       782       783       784  \n",
              "count  112800.0  112800.0  112800.0  112800.0  112800.0  \n",
              "mean        0.0       0.0       0.0       0.0       0.0  \n",
              "std         0.0       0.0       0.0       0.0       0.0  \n",
              "min         0.0       0.0       0.0       0.0       0.0  \n",
              "25%         0.0       0.0       0.0       0.0       0.0  \n",
              "50%         0.0       0.0       0.0       0.0       0.0  \n",
              "75%         0.0       0.0       0.0       0.0       0.0  \n",
              "max         0.0       0.0       0.0       0.0       0.0  \n",
              "\n",
              "[8 rows x 785 columns]"
            ]
          },
          "execution_count": 173,
          "metadata": {},
          "output_type": "execute_result"
        }
      ],
      "source": [
        "dset.describe()"
      ]
    },
    {
      "cell_type": "markdown",
      "metadata": {
        "id": "2IsjGtoQzTFc"
      },
      "source": [
        "112800 rows (images), each described using 784 variables 28x28 pixels plus one column as output variable (first col)."
      ]
    },
    {
      "cell_type": "code",
      "execution_count": 174,
      "metadata": {
        "colab": {
          "base_uri": "https://localhost:8080/"
        },
        "id": "egczRRwnzP65",
        "outputId": "bb149d76-a583-49f5-a68e-fe2c3fd1ad92"
      },
      "outputs": [
        {
          "data": {
            "text/plain": [
              "(112800, 785)"
            ]
          },
          "execution_count": 174,
          "metadata": {},
          "output_type": "execute_result"
        }
      ],
      "source": [
        "dset.shape"
      ]
    },
    {
      "cell_type": "code",
      "execution_count": 175,
      "metadata": {
        "colab": {
          "base_uri": "https://localhost:8080/"
        },
        "id": "whK4Iv711W8l",
        "outputId": "a3759823-3972-4d1b-ba33-2a30b111733a"
      },
      "outputs": [
        {
          "data": {
            "text/plain": [
              "(112800, 784)"
            ]
          },
          "execution_count": 175,
          "metadata": {},
          "output_type": "execute_result"
        }
      ],
      "source": [
        "# split dataset\n",
        "dset = dset.loc[:,1:]\n",
        "dset.shape"
      ]
    },
    {
      "cell_type": "code",
      "execution_count": 176,
      "metadata": {
        "colab": {
          "base_uri": "https://localhost:8080/",
          "height": 283
        },
        "id": "wVgWjPaF8wPV",
        "outputId": "1ff780ad-43a3-44d1-fdac-a23c378c3ab5"
      },
      "outputs": [
        {
          "data": {
            "text/plain": [
              "<function matplotlib.pyplot.show(*args, **kw)>"
            ]
          },
          "execution_count": 176,
          "metadata": {},
          "output_type": "execute_result"
        },
        {
          "data": {
            "image/png": "[encoded data removed]",
            "text/plain": [
              "<Figure size 432x288 with 1 Axes>"
            ]
          },
          "metadata": {
            "needs_background": "light"
          },
          "output_type": "display_data"
        }
      ],
      "source": [
        "# normalize data\n",
        "dset = np.expand_dims(dset,-1).astype('float32')/255\n",
        "# reshape images to 28 x 28\n",
        "dset = np.reshape(dset,(-1,28,28))\n",
        "# get sample image to see what they look like\n",
        "sample = dset[102]\n",
        "plt.imshow(sample, cmap=plt.cm.gray)\n",
        "plt.show"
      ]
    },
    {
      "cell_type": "markdown",
      "metadata": {
        "id": "FRSipxU6CHbX"
      },
      "source": [
        "Image is rotated. To fix this, we have to flip it horizontally and rotate it 90 degrees anti-clockwise.\n",
        "(https://stackoverflow.com/questions/48532761/letters-in-emnist-training-dataset-are-rotated-and-little-vague)"
      ]
    },
    {
      "cell_type": "code",
      "execution_count": 177,
      "metadata": {
        "id": "DluFf8HICSM7"
      },
      "outputs": [],
      "source": [
        "def rotate(sample):\n",
        "  sample = np.fliplr(sample)\n",
        "  sample = np.rot90(sample)\n",
        "  return sample\n"
      ]
    },
    {
      "cell_type": "code",
      "execution_count": 178,
      "metadata": {
        "colab": {
          "base_uri": "https://localhost:8080/",
          "height": 283
        },
        "id": "-2KA9ic2CjzH",
        "outputId": "2818d059-1531-4684-ee1e-392b6d379666"
      },
      "outputs": [
        {
          "data": {
            "text/plain": [
              "<function matplotlib.pyplot.show(*args, **kw)>"
            ]
          },
          "execution_count": 178,
          "metadata": {},
          "output_type": "execute_result"
        },
        {
          "data": {
            "image/png": "[encoded data removed]",
            "text/plain": [
              "<Figure size 432x288 with 1 Axes>"
            ]
          },
          "metadata": {
            "needs_background": "light"
          },
          "output_type": "display_data"
        }
      ],
      "source": [
        "# Check if the rotate function worked\n",
        "s1 = rotate(sample)\n",
        "plt.imshow(s1, cmap=plt.cm.gray)\n",
        "plt.show"
      ]
    },
    {
      "cell_type": "code",
      "execution_count": 179,
      "metadata": {
        "id": "xavy5M7qGrW0"
      },
      "outputs": [],
      "source": [
        "dset = [rotate(x) for x in dset]"
      ]
    },
    {
      "cell_type": "code",
      "execution_count": 180,
      "metadata": {
        "colab": {
          "base_uri": "https://localhost:8080/",
          "height": 283
        },
        "id": "PH15swNsEcwL",
        "outputId": "3d22d119-1695-4653-f178-eac975459844"
      },
      "outputs": [
        {
          "data": {
            "text/plain": [
              "<function matplotlib.pyplot.show(*args, **kw)>"
            ]
          },
          "execution_count": 180,
          "metadata": {},
          "output_type": "execute_result"
        },
        {
          "data": {
            "image/png": "[encoded data removed]",
            "text/plain": [
              "<Figure size 432x288 with 1 Axes>"
            ]
          },
          "metadata": {
            "needs_background": "light"
          },
          "output_type": "display_data"
        }
      ],
      "source": [
        "import random\n",
        "# check if function worked for the whole dataset by looking at random element\n",
        "r = random.randint(100, 1000)\n",
        "s2 = dset[r]\n",
        "plt.imshow(s2, cmap=plt.cm.gray)\n",
        "plt.show"
      ]
    },
    {
      "cell_type": "markdown",
      "metadata": {
        "id": "INWwY_4VBCNz"
      },
      "source": [
        "Dataset might be too big for GAN (more than 100,000 images), the ideal range according to NVIDIA is from 50,000 to 100,000."
      ]
    },
    {
      "cell_type": "code",
      "execution_count": 181,
      "metadata": {
        "id": "Ff7ADWKgBArK"
      },
      "outputs": [],
      "source": [
        "dset = dset[:60000] "
      ]
    },
    {
      "cell_type": "markdown",
      "metadata": {
        "id": "4gtdSjjABERs"
      },
      "source": [
        "Reshape data to dimensions needed by CNN layers, shuffle, and batch it."
      ]
    },
    {
      "cell_type": "code",
      "execution_count": 182,
      "metadata": {
        "id": "QCw0G3_VBERs"
      },
      "outputs": [],
      "source": [
        "BATCH_SIZE = 64\n",
        "# convolution layers work 3 channels \n",
        "dset = np.reshape(dset,(-1,28,28,1))\n",
        "# tensorflow dataset obj\n",
        "dset =  tf.data.Dataset.from_tensor_slices(dset)\n",
        "# set batch size for it not to read one image at a time\n",
        "dset = dset.shuffle(buffer_size=1024).batch(BATCH_SIZE)"
      ]
    },
    {
      "cell_type": "markdown",
      "metadata": {
        "id": "_FRWKb4yBERs"
      },
      "source": [
        "Set up model for generator. Three COnv2DTranspose layers are used to construct the images."
      ]
    },
    {
      "cell_type": "code",
      "execution_count": 183,
      "metadata": {
        "colab": {
          "base_uri": "https://localhost:8080/"
        },
        "id": "1VAWbpf1BERt",
        "outputId": "cd6cee82-8489-4223-c24c-82534872ecdb"
      },
      "outputs": [
        {
          "name": "stdout",
          "output_type": "stream",
          "text": [
            "Model: \"sequential_15\"\n",
            "_________________________________________________________________\n",
            " Layer (type)                Output Shape              Param #   \n",
            "=================================================================\n",
            " dense_20 (Dense)            (None, 12544)             1894144   \n",
            "                                                                 \n",
            " reshape_8 (Reshape)         (None, 7, 7, 256)         0         \n",
            "                                                                 \n",
            " conv2d_transpose_21 (Conv2D  (None, 14, 14, 256)      590080    \n",
            " Transpose)                                                      \n",
            "                                                                 \n",
            " conv2d_transpose_22 (Conv2D  (None, 28, 28, 128)      295040    \n",
            " Transpose)                                                      \n",
            "                                                                 \n",
            " conv2d_transpose_23 (Conv2D  (None, 28, 28, 1)        1153      \n",
            " Transpose)                                                      \n",
            "                                                                 \n",
            "=================================================================\n",
            "Total params: 2,780,417\n",
            "Trainable params: 2,780,417\n",
            "Non-trainable params: 0\n",
            "_________________________________________________________________\n"
          ]
        }
      ],
      "source": [
        "# Generator's input is a noise vector hyperparameter (fine-tune later)\n",
        "NOISE_DIM = 150\n",
        "#used to be 150\n",
        "# design generator model with unsampling layers\n",
        "generator = keras.models.Sequential([\n",
        "    keras.layers.InputLayer(input_shape=(NOISE_DIM,)),\n",
        "    layers.Dense(7*7*256),\n",
        "    layers.Reshape(target_shape=(7,7,256)),\n",
        "    # Three COnv2DTranspose layers are used to construct the images. Similar to VAE.\n",
        "    layers.Conv2DTranspose(256,3,activation=\"LeakyReLU\",strides=2,padding=\"same\"),\n",
        "    layers.Conv2DTranspose(128,3,activation=\"LeakyReLU\",strides=2,padding=\"same\"),\n",
        "    layers.Conv2DTranspose(1,3,activation=\"sigmoid\",padding=\"same\")\n",
        "])\n",
        "\n",
        "generator.summary()"
      ]
    },
    {
      "cell_type": "markdown",
      "metadata": {
        "id": "RflthgZABERt"
      },
      "source": [
        "Use untrained generator to create an image"
      ]
    },
    {
      "cell_type": "code",
      "execution_count": 184,
      "metadata": {
        "colab": {
          "base_uri": "https://localhost:8080/",
          "height": 283
        },
        "id": "5Ol9hhVzBERt",
        "outputId": "e6fe5461-92ab-4549-b81d-f3648bcb5224"
      },
      "outputs": [
        {
          "data": {
            "text/plain": [
              "<matplotlib.image.AxesImage at 0x7fbb1c3765e0>"
            ]
          },
          "execution_count": 184,
          "metadata": {},
          "output_type": "execute_result"
        },
        {
          "data": {
            "image/png": "[encoded data removed]",
            "text/plain": [
              "<Figure size 432x288 with 1 Axes>"
            ]
          },
          "metadata": {
            "needs_background": "light"
          },
          "output_type": "display_data"
        }
      ],
      "source": [
        "noise = tf.random.normal([1,NOISE_DIM])\n",
        "new_image = generator(noise, training=False)\n",
        "plt.imshow(new_image[0,:,:,0], cmap=plt.cm.gray)"
      ]
    },
    {
      "cell_type": "markdown",
      "metadata": {
        "id": "WBcpBbK6BERu"
      },
      "source": [
        "Create discriminator model. Two Conv2D layers to downsample before going into a 64-neuron dense layer and a dropout to avoid overfitting. The output is binary, as the job is to classify the character images as real or fake until it cannot tell the difference anymore."
      ]
    },
    {
      "cell_type": "code",
      "execution_count": 185,
      "metadata": {
        "colab": {
          "base_uri": "https://localhost:8080/"
        },
        "id": "G5IN2JrFBERu",
        "outputId": "ee5c9b19-8d5e-4abe-9a3a-6caa94027491"
      },
      "outputs": [
        {
          "name": "stdout",
          "output_type": "stream",
          "text": [
            "Model: \"sequential_16\"\n",
            "_________________________________________________________________\n",
            " Layer (type)                Output Shape              Param #   \n",
            "=================================================================\n",
            " conv2d_14 (Conv2D)          (None, 14, 14, 256)       2560      \n",
            "                                                                 \n",
            " conv2d_15 (Conv2D)          (None, 7, 7, 128)         295040    \n",
            "                                                                 \n",
            " flatten_7 (Flatten)         (None, 6272)              0         \n",
            "                                                                 \n",
            " dense_21 (Dense)            (None, 64)                401472    \n",
            "                                                                 \n",
            " dropout_9 (Dropout)         (None, 64)                0         \n",
            "                                                                 \n",
            " dense_22 (Dense)            (None, 1)                 65        \n",
            "                                                                 \n",
            "=================================================================\n",
            "Total params: 699,137\n",
            "Trainable params: 699,137\n",
            "Non-trainable params: 0\n",
            "_________________________________________________________________\n"
          ]
        }
      ],
      "source": [
        "# create discriminator\n",
        "discriminator = keras.models.Sequential([\n",
        "    keras.layers.InputLayer(input_shape=(28,28,1)),\n",
        "    # activation parameters were chosen on the basis that they are standard practice in GANs.\n",
        "    layers.Conv2D(256,3,activation=\"relu\", strides=2,padding=\"same\"),\n",
        "    layers.Conv2D(128,3,activation=\"relu\", strides=2,padding=\"same\"),\n",
        "    layers.Flatten(),\n",
        "    layers.Dense(64,activation=\"relu\"),\n",
        "    layers.Dropout(0.2),\n",
        "    layers.Dense(1,activation=\"sigmoid\")\n",
        "])\n",
        "\n",
        "discriminator.summary()"
      ]
    },
    {
      "cell_type": "markdown",
      "metadata": {
        "id": "i6e2ef4oBERu"
      },
      "source": [
        "Set up optimizers, loss functions, and accuracy metrics. Hyperparameters to get the learning rates well in the generator and discriminator for the sake of stability."
      ]
    },
    {
      "cell_type": "code",
      "execution_count": 186,
      "metadata": {
        "id": "lZDKx6Z8BERu"
      },
      "outputs": [],
      "source": [
        "# optimizers\n",
        "G_optimizer = keras.optimizers.Adam(learning_rate=0.00001, beta_1=0.5)\n",
        "D_optimizer = keras.optimizers.Adam(learning_rate=0.00003, beta_1=0.5)\n",
        "\n",
        "# binary classifier\n",
        "loss_fn = keras.losses.BinaryCrossentropy(from_logits=True)\n",
        "\n",
        "# accuracy metric\n",
        "gAccMetric = tf.keras.metrics.BinaryAccuracy()\n",
        "dAccMetric = tf.keras.metrics.BinaryAccuracy()"
      ]
    },
    {
      "cell_type": "markdown",
      "metadata": {
        "id": "JxfOYCTuBERv"
      },
      "source": [
        "Define training function for one step of generator and one of the discriminator"
      ]
    },
    {
      "cell_type": "code",
      "execution_count": 190,
      "metadata": {
        "id": "zxbgFNgRHKLW"
      },
      "outputs": [],
      "source": [
        "@tf.function\n",
        "def trainStep(x):\n",
        "    # batch (32,28,28,1). Extract 32 value\n",
        "    batch = tf.shape(x)[0]\n",
        "    noise = tf.random.normal([batch,NOISE_DIM])\n",
        "    # concatenate labels\n",
        "    trD = tf.concat([\n",
        "        # real labeled with 1\n",
        "        tf.ones(batch, 1),\n",
        "        # fake labeled with 0\n",
        "        tf.zeros(batch,1)\n",
        "    ], axis=0)\n",
        "    trG = tf.ones(batch)\n",
        "    \n",
        "    with tf.GradientTape() as gTape, tf.GradientTape() as dTape:\n",
        "        # test the outcome of generator\n",
        "        gen = generator(noise)\n",
        "        fakeO = discriminator(gen)\n",
        "        realO = discriminator(x)\n",
        "\n",
        "        # make discriminator detect the difference between real and fake data\n",
        "        pred = discriminator(tf.concat([x,gen],axis=0))\n",
        "\n",
        "        # calculate loss\n",
        "        genLoss = loss_fn(trG,fakeO)\n",
        "        disLoss = loss_fn(trD,pred)\n",
        "    # apply backpropagation and update weights\n",
        "    grG = gTape.gradient(genLoss, generator.trainable_weights)\n",
        "    grD = dTape.gradient(disLoss,discriminator.trainable_variables)\n",
        "    G_optimizer.apply_gradients(zip(grG,generator.trainable_weights))\n",
        "    D_optimizer.apply_gradients(zip(grD,discriminator.trainable_variables))\n",
        "    # accuracy\n",
        "    gAccMetric.update_state(trG,fakeO)\n",
        "    dAccMetric.update_state(trD,pred)\n",
        "    \n",
        "\n",
        "    # return loss for visualization\n",
        "    return {\n",
        "        # loss\n",
        "        \"gen loss\": genLoss,\n",
        "        \"dis loss\": disLoss,\n",
        "        # accuracy\n",
        "        \"gen acc\": gAccMetric.result(),\n",
        "        \"dis acc\": dAccMetric.result()\n",
        "    }"
      ]
    }
  ],
  "metadata": {
    "accelerator": "GPU",
    "colab": {
      "provenance": []
    },
    "gpuClass": "premium",
    "kernelspec": {
      "display_name": "Python 3.8.15",
      "language": "python",
      "name": "python3"
    },
    "language_info": {
      "codemirror_mode": {
        "name": "ipython",
        "version": 3
      },
      "file_extension": ".py",
      "mimetype": "text/x-python",
      "name": "python",
      "nbconvert_exporter": "python",
      "pygments_lexer": "ipython3",
      "version": "3.8.15"
    },
    "vscode": {
      "interpreter": {
        "hash": "13144f914f55f35f1d1a359af7a8f2a2500a35788150df7c406b6a22850f36b5"
      }
    }
  },
  "nbformat": 4,
  "nbformat_minor": 0
}
